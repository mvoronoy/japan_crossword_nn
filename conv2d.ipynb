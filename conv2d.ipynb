{
 "cells": [
  {
   "cell_type": "code",
   "execution_count": 6,
   "metadata": {
    "scrolled": true
   },
   "outputs": [
    {
     "name": "stdout",
     "output_type": "stream",
     "text": [
      "(None, 128, 128, 1)\n",
      "(None, 128, 128, 32)\n",
      "(None, 128, 128, 64)\n",
      "(None, 128, 128, 128)\n",
      "(None, 128, 128, 1)\n"
     ]
    }
   ],
   "source": [
    "import numpy as np\n",
    "\n",
    "import tensorflow as tf\n",
    "\n",
    "from tensorflow import keras\n",
    "from tensorflow.keras import layers\n",
    "\n",
    "from IPython.display import Image, HTML \n",
    "from PIL import Image, ImageDraw\n",
    "\n",
    "import sys\n",
    "import os\n",
    "\n",
    "sys.path.append(os.path.join('D:/', 'Max', 'python', 'randimg'))\n",
    "\n",
    "import itertools\n",
    "import ImgGenerator\n",
    "\n",
    "tf.keras.backend.clear_session()  # For easy reset of notebook state.\n",
    "# inputs = keras.Input(shape=(256, 50, 2)) # I have 40 picture for them 2 reduces each 256*50 size\n",
    "\n",
    "interlaced_reduce_input = keras.Input(shape=( ImgGenerator.W, ImgGenerator.H, 1), name='interlaced_reduce')\n",
    "print(interlaced_reduce_input.shape)\n",
    "small_conv = layers.Conv2D(32, (3, 2), padding=\"same\", activation='relu')(interlaced_reduce_input)\n",
    "small_conv = layers.LeakyReLU()(small_conv)\n",
    "print(small_conv.shape)\n",
    "medium_conv = layers.Conv2D(64, (3, 2), padding=\"same\", activation='relu')(small_conv)\n",
    "medium_conv = layers.LeakyReLU()(medium_conv)\n",
    "print(medium_conv.shape)\n",
    "large_conv = layers.Conv2D(128, (3, 2), padding=\"same\", activation='relu')(medium_conv)\n",
    "large_conv = layers.LeakyReLU()(large_conv)\n",
    "print(large_conv.shape)\n",
    "#\n",
    "def deconv2d(layer_input, skip_input, filters, f_size=4, dropout_rate=0):\n",
    "    \"\"\"Layers used during upsampling\"\"\"\n",
    "    u = layers.UpSampling2D(size=2)(layer_input)\n",
    "    u = layers.Conv2D(filters, kernel_size=f_size, strides=1, padding='same', activation='relu')(u)\n",
    "    if dropout_rate:\n",
    "        u = layers.Dropout(dropout_rate)(u)\n",
    "    u = layers.BatchNormalization(momentum=0.8)(u)\n",
    "    u = layers.Concatenate()([u, skip_input])\n",
    "    return u\n",
    "# Upsampling\n",
    "#u1 = deconv2d(large_conv, medium_conv, 64)\n",
    "#u2 = deconv2d(u1, small_conv, 32)\n",
    "#u3 = UpSampling2D(size=2)(u2)\n",
    "#output_img = Conv2D(3, kernel_size=4, strides=1, padding='same', activation='sigmoid')(u3)\n",
    "u = layers.BatchNormalization(momentum=0.8)(large_conv)\n",
    "output_img = layers.Conv2D(1, kernel_size=4, strides=1, padding='same', activation='sigmoid')(u)\n",
    "print(output_img.shape)\n"
   ]
  },
  {
   "cell_type": "code",
   "execution_count": 7,
   "metadata": {},
   "outputs": [
    {
     "name": "stdout",
     "output_type": "stream",
     "text": [
      "Model: \"model\"\n",
      "_________________________________________________________________\n",
      "Layer (type)                 Output Shape              Param #   \n",
      "=================================================================\n",
      "interlaced_reduce (InputLaye [(None, 128, 128, 1)]     0         \n",
      "_________________________________________________________________\n",
      "conv2d (Conv2D)              (None, 128, 128, 32)      224       \n",
      "_________________________________________________________________\n",
      "leaky_re_lu (LeakyReLU)      (None, 128, 128, 32)      0         \n",
      "_________________________________________________________________\n",
      "conv2d_1 (Conv2D)            (None, 128, 128, 64)      12352     \n",
      "_________________________________________________________________\n",
      "leaky_re_lu_1 (LeakyReLU)    (None, 128, 128, 64)      0         \n",
      "_________________________________________________________________\n",
      "conv2d_2 (Conv2D)            (None, 128, 128, 128)     49280     \n",
      "_________________________________________________________________\n",
      "leaky_re_lu_2 (LeakyReLU)    (None, 128, 128, 128)     0         \n",
      "_________________________________________________________________\n",
      "batch_normalization (BatchNo (None, 128, 128, 128)     512       \n",
      "_________________________________________________________________\n",
      "conv2d_3 (Conv2D)            (None, 128, 128, 1)       2049      \n",
      "=================================================================\n",
      "Total params: 64,417\n",
      "Trainable params: 64,161\n",
      "Non-trainable params: 256\n",
      "_________________________________________________________________\n"
     ]
    }
   ],
   "source": [
    "\n",
    "model = keras.Model(inputs=interlaced_reduce_input, outputs=output_img)\n",
    "#model = keras.Model(inputs=x, outputs=output)\n",
    "model.summary()\n",
    "model.compile(optimizer=\"Adam\", loss=\"mse\", metrics=[\"mae\"])\n"
   ]
  },
  {
   "cell_type": "code",
   "execution_count": 8,
   "metadata": {},
   "outputs": [
    {
     "name": "stdout",
     "output_type": "stream",
     "text": [
      "Train: reduced-shape:(64, 128, 128)\n"
     ]
    },
    {
     "data": {
      "image/png": "[encoded data removed]",
      "text/plain": [
       "<PIL.Image.Image image mode=L size=128x128 at 0x2A66BFDCC48>"
      ]
     },
     "metadata": {},
     "output_type": "display_data"
    },
    {
     "data": {
      "image/png": "[encoded data removed]",
      "text/plain": [
       "<PIL.Image.Image image mode=L size=128x128 at 0x2A66C12AC88>"
      ]
     },
     "metadata": {},
     "output_type": "display_data"
    },
    {
     "name": "stdout",
     "output_type": "stream",
     "text": [
      "Train: y-shape:(64, 128, 128)\n"
     ]
    }
   ],
   "source": [
    "interlaced_reduce = []\n",
    "train_y = []\n",
    "\n",
    "# make train set\n",
    "for a, b, y in itertools.islice(ImgGenerator.produce_numpy_sample(), 0, 64):\n",
    "    # interlaced makes from 2 matrix: [[x1, x2], [x3, x4]] & [[y1, y2] [y3, y4]]\n",
    "    #    forms rows side-by-side:     [[x1, x2], [y1, y2], [x3, x4], [y3, y4]]\n",
    "    interlaced = np.hstack((a, b)).reshape(ImgGenerator.H, ImgGenerator.W)\n",
    "    interlaced_reduce.append(interlaced)\n",
    "    train_y.append(y)\n",
    "\n",
    "interlaced_reduce = np.stack(interlaced_reduce) #convert list to matrix\n",
    "\n",
    "print(f'Train: reduced-shape:{interlaced_reduce.shape}')\n",
    "\n",
    "#train_x = {\"interlaced_reduce\": interlaced_reduce}\n",
    "train_y = np.stack(train_y) # convert from list to np.array\n",
    "\n",
    "iy = Image.fromarray((train_y[1,:,:]*255).astype(np.int8), 'L')\n",
    "display(iy)\n",
    "iy = Image.fromarray((train_y[2,:,:]*255).astype(np.int8), 'L')\n",
    "display(iy)\n",
    "print(f'Train: y-shape:{train_y.shape}')\n"
   ]
  },
  {
   "cell_type": "code",
   "execution_count": 9,
   "metadata": {},
   "outputs": [
    {
     "name": "stdout",
     "output_type": "stream",
     "text": [
      "Epoch 1/50\n",
      "2/2 [==============================] - 4s 2s/step - loss: 0.2504 - mae: 0.4993\n",
      "Epoch 2/50\n",
      "2/2 [==============================] - 6s 3s/step - loss: 0.2464 - mae: 0.4955\n",
      "Epoch 3/50\n",
      "2/2 [==============================] - 6s 3s/step - loss: 0.2419 - mae: 0.4908\n",
      "Epoch 4/50\n",
      "2/2 [==============================] - 6s 3s/step - loss: 0.2375 - mae: 0.4855\n",
      "Epoch 5/50\n",
      "2/2 [==============================] - 6s 3s/step - loss: 0.2317 - mae: 0.4786\n",
      "Epoch 6/50\n",
      "2/2 [==============================] - 6s 3s/step - loss: 0.2258 - mae: 0.4704\n",
      "Epoch 7/50\n",
      "2/2 [==============================] - 5s 3s/step - loss: 0.2193 - mae: 0.4602\n",
      "Epoch 8/50\n",
      "2/2 [==============================] - 5s 3s/step - loss: 0.2132 - mae: 0.4489\n",
      "Epoch 9/50\n",
      "2/2 [==============================] - 6s 3s/step - loss: 0.2080 - mae: 0.4364\n",
      "Epoch 10/50\n",
      "2/2 [==============================] - 6s 3s/step - loss: 0.2044 - mae: 0.4231\n",
      "Epoch 11/50\n",
      "2/2 [==============================] - 6s 3s/step - loss: 0.2025 - mae: 0.4107\n",
      "Epoch 12/50\n",
      "2/2 [==============================] - 6s 3s/step - loss: 0.2020 - mae: 0.3999\n",
      "Epoch 13/50\n",
      "2/2 [==============================] - 6s 3s/step - loss: 0.2022 - mae: 0.3922\n",
      "Epoch 14/50\n",
      "2/2 [==============================] - 7s 3s/step - loss: 0.2031 - mae: 0.3881\n",
      "Epoch 15/50\n",
      "2/2 [==============================] - 6s 3s/step - loss: 0.2023 - mae: 0.3869\n",
      "Epoch 16/50\n",
      "2/2 [==============================] - 6s 3s/step - loss: 0.2018 - mae: 0.3875\n",
      "Epoch 17/50\n",
      "2/2 [==============================] - 5s 3s/step - loss: 0.2015 - mae: 0.3920\n",
      "Epoch 18/50\n",
      "2/2 [==============================] - 5s 3s/step - loss: 0.2010 - mae: 0.3960\n",
      "Epoch 19/50\n",
      "2/2 [==============================] - 5s 3s/step - loss: 0.2007 - mae: 0.3988\n",
      "Epoch 20/50\n",
      "2/2 [==============================] - 5s 3s/step - loss: 0.2008 - mae: 0.4020\n",
      "Epoch 21/50\n",
      "2/2 [==============================] - 5s 3s/step - loss: 0.2009 - mae: 0.4034\n",
      "Epoch 22/50\n",
      "2/2 [==============================] - 7s 3s/step - loss: 0.2006 - mae: 0.4024\n",
      "Epoch 23/50\n",
      "2/2 [==============================] - 7s 3s/step - loss: 0.2007 - mae: 0.4014\n",
      "Epoch 24/50\n",
      "2/2 [==============================] - 6s 3s/step - loss: 0.2003 - mae: 0.3998\n",
      "Epoch 25/50\n",
      "2/2 [==============================] - 6s 3s/step - loss: 0.2002 - mae: 0.3968\n",
      "Epoch 26/50\n",
      "2/2 [==============================] - 6s 3s/step - loss: 0.2003 - mae: 0.3957\n",
      "Epoch 27/50\n",
      "2/2 [==============================] - 6s 3s/step - loss: 0.2003 - mae: 0.3960\n",
      "Epoch 28/50\n",
      "2/2 [==============================] - 5s 3s/step - loss: 0.2003 - mae: 0.3961\n",
      "Epoch 29/50\n",
      "2/2 [==============================] - 5s 3s/step - loss: 0.2003 - mae: 0.3962\n",
      "Epoch 30/50\n",
      "2/2 [==============================] - 5s 3s/step - loss: 0.2001 - mae: 0.3968\n",
      "Epoch 31/50\n",
      "2/2 [==============================] - 6s 3s/step - loss: 0.2001 - mae: 0.3983\n",
      "Epoch 32/50\n",
      "2/2 [==============================] - 6s 3s/step - loss: 0.2000 - mae: 0.3978\n",
      "Epoch 33/50\n",
      "2/2 [==============================] - 6s 3s/step - loss: 0.1999 - mae: 0.3993\n",
      "Epoch 34/50\n",
      "2/2 [==============================] - 6s 3s/step - loss: 0.1998 - mae: 0.3991\n",
      "Epoch 35/50\n",
      "2/2 [==============================] - 6s 3s/step - loss: 0.1998 - mae: 0.3975\n",
      "Epoch 36/50\n",
      "2/2 [==============================] - 6s 3s/step - loss: 0.1999 - mae: 0.3989\n",
      "Epoch 37/50\n",
      "2/2 [==============================] - 6s 3s/step - loss: 0.2001 - mae: 0.3979\n",
      "Epoch 38/50\n",
      "2/2 [==============================] - 6s 3s/step - loss: 0.1998 - mae: 0.3972\n",
      "Epoch 39/50\n",
      "2/2 [==============================] - 6s 3s/step - loss: 0.1998 - mae: 0.3956\n",
      "Epoch 40/50\n",
      "2/2 [==============================] - 6s 3s/step - loss: 0.1998 - mae: 0.3966\n",
      "Epoch 41/50\n",
      "2/2 [==============================] - 6s 3s/step - loss: 0.1999 - mae: 0.3958\n",
      "Epoch 42/50\n",
      "2/2 [==============================] - 6s 3s/step - loss: 0.1999 - mae: 0.3969\n",
      "Epoch 43/50\n",
      "2/2 [==============================] - 6s 3s/step - loss: 0.1996 - mae: 0.3975\n",
      "Epoch 44/50\n",
      "2/2 [==============================] - 6s 3s/step - loss: 0.1996 - mae: 0.3962\n",
      "Epoch 45/50\n",
      "2/2 [==============================] - 6s 3s/step - loss: 0.1996 - mae: 0.3968\n",
      "Epoch 46/50\n",
      "2/2 [==============================] - 6s 3s/step - loss: 0.1995 - mae: 0.3970\n",
      "Epoch 47/50\n",
      "2/2 [==============================] - 6s 3s/step - loss: 0.1996 - mae: 0.3981\n",
      "Epoch 48/50\n",
      "2/2 [==============================] - 6s 3s/step - loss: 0.1999 - mae: 0.3972\n",
      "Epoch 49/50\n",
      "2/2 [==============================] - 5s 3s/step - loss: 0.1999 - mae: 0.3963\n",
      "Epoch 50/50\n",
      "2/2 [==============================] - 6s 3s/step - loss: 0.1998 - mae: 0.3966\n"
     ]
    }
   ],
   "source": [
    "\n",
    "\"\"\"\n",
    "#train_x = np.random.randint(0, high=10, size=(32, 128, 128, 1))\n",
    "train_x = {\"top_reduce\": np.random.randint(0, high=10, size=(32, 128, 64, 1)),\n",
    "           \"left_reduce\": np.random.randint(0, high=10, size=(32, 128, 64, 1))}\n",
    "train_y = np.random.randint(0, high=1, size=(32, 128, 128, 1))\n",
    "\"\"\"\n",
    "history = model.fit(x = interlaced_reduce, y=train_y, epochs=10)\n"
   ]
  },
  {
   "cell_type": "code",
   "execution_count": 10,
   "metadata": {},
   "outputs": [
    {
     "name": "stdout",
     "output_type": "stream",
     "text": [
      "Test: test_reduces-shape:(32, 128, 128)\n",
      "Test: y-shape:(32, 128, 128)\n",
      "1/1 - 0s - loss: 0.2011 - mae: 0.3879\n",
      "Test loss: 0.20111222565174103\n",
      "Test accuracy: 0.3878994584083557\n"
     ]
    }
   ],
   "source": [
    "#\n",
    "# model evaluation\n",
    "test_reduces = []\n",
    "test_y = []\n",
    "\n",
    "# make test set\n",
    "for a, b, y in itertools.islice(ImgGenerator.produce_numpy_sample(), 0, 32):\n",
    "    interlaced = np.hstack((a, b)).reshape(ImgGenerator.H, ImgGenerator.W)\n",
    "    test_reduces.append(interlaced)\n",
    "    test_y.append(y)\n",
    "\n",
    "test_reduces = np.stack(test_reduces)\n",
    "\n",
    "print(f'Test: test_reduces-shape:{test_reduces.shape}')\n",
    "\n",
    "test_y = np.stack(test_y) # convert from list to np.array\n",
    "\n",
    "print(f'Test: y-shape:{test_y.shape}')\n",
    "\n",
    "test_scores = model.evaluate(test_reduces, test_y, verbose=2)\n",
    "print('Test loss:', test_scores[0])\n",
    "print('Test accuracy:', test_scores[1])\n"
   ]
  },
  {
   "cell_type": "code",
   "execution_count": 12,
   "metadata": {},
   "outputs": [
    {
     "name": "stdout",
     "output_type": "stream",
     "text": [
      "(4, 128, 128, 1)\n",
      "[[[0.9678314 ]\n",
      "  [0.98672915]\n",
      "  [0.98672915]\n",
      "  ...\n",
      "  [0.9999286 ]\n",
      "  [0.9994218 ]\n",
      "  [0.9978396 ]]\n",
      "\n",
      " [[0.98061633]\n",
      "  [0.9929272 ]\n",
      "  [0.9929272 ]\n",
      "  ...\n",
      "  [0.99999726]\n",
      "  [0.99995846]\n",
      "  [0.9997722 ]]\n",
      "\n",
      " [[0.8389154 ]\n",
      "  [0.8773763 ]\n",
      "  [0.8773763 ]\n",
      "  ...\n",
      "  [0.99997497]\n",
      "  [0.9999038 ]\n",
      "  [0.99964   ]]\n",
      "\n",
      " ...\n",
      "\n",
      " [[0.976346  ]\n",
      "  [0.99088   ]\n",
      "  [0.99088   ]\n",
      "  ...\n",
      "  [0.9999857 ]\n",
      "  [0.99981964]\n",
      "  [0.99947894]]\n",
      "\n",
      " [[0.9574828 ]\n",
      "  [0.97678876]\n",
      "  [0.97678876]\n",
      "  ...\n",
      "  [0.999847  ]\n",
      "  [0.9988641 ]\n",
      "  [0.9950282 ]]\n",
      "\n",
      " [[0.95074314]\n",
      "  [0.975103  ]\n",
      "  [0.975103  ]\n",
      "  ...\n",
      "  [0.99908066]\n",
      "  [0.9937711 ]\n",
      "  [0.9880934 ]]]\n"
     ]
    }
   ],
   "source": [
    "target_y, predict_in = zip(\n",
    "    *[(y, np.hstack((a, b)).reshape(ImgGenerator.H, ImgGenerator.W))\n",
    "                       for a, b, y in itertools.islice(ImgGenerator.produce_numpy_sample(), 0,4)] )\n",
    "predict_in = np.stack(predict_in)\n",
    "prediction = model.predict(predict_in)\n",
    "print(prediction.shape)\n",
    "print(prediction[0])"
   ]
  },
  {
   "cell_type": "code",
   "execution_count": 13,
   "metadata": {},
   "outputs": [
    {
     "data": {
      "image/png": "[encoded data removed]",
      "text/plain": [
       "<PIL.Image.Image image mode=L size=128x128 at 0x2A66DC701C8>"
      ]
     },
     "metadata": {},
     "output_type": "display_data"
    },
    {
     "data": {
      "image/png": "[encoded data removed]",
      "text/plain": [
       "<PIL.Image.Image image mode=L size=128x128 at 0x2A66BD95348>"
      ]
     },
     "metadata": {},
     "output_type": "display_data"
    },
    {
     "data": {
      "image/png": "[encoded data removed]",
      "text/plain": [
       "<PIL.Image.Image image mode=L size=128x128 at 0x2A66BD95348>"
      ]
     },
     "metadata": {},
     "output_type": "display_data"
    },
    {
     "data": {
      "image/png": "[encoded data removed]",
      "text/plain": [
       "<PIL.Image.Image image mode=L size=128x128 at 0x2A66BDB61C8>"
      ]
     },
     "metadata": {},
     "output_type": "display_data"
    },
    {
     "data": {
      "image/png": "[encoded data removed]",
      "text/plain": [
       "<PIL.Image.Image image mode=L size=128x128 at 0x2A66BDB61C8>"
      ]
     },
     "metadata": {},
     "output_type": "display_data"
    },
    {
     "data": {
      "image/png": "[encoded data removed]",
      "text/plain": [
       "<PIL.Image.Image image mode=L size=128x128 at 0x2A66DC8D508>"
      ]
     },
     "metadata": {},
     "output_type": "display_data"
    },
    {
     "data": {
      "image/png": "[encoded data removed]",
      "text/plain": [
       "<PIL.Image.Image image mode=L size=128x128 at 0x2A66BFC1508>"
      ]
     },
     "metadata": {},
     "output_type": "display_data"
    },
    {
     "data": {
      "image/png": "[encoded data removed]",
      "text/plain": [
       "<PIL.Image.Image image mode=L size=128x128 at 0x2A66BDB6C48>"
      ]
     },
     "metadata": {},
     "output_type": "display_data"
    }
   ],
   "source": [
    "ix = Image.fromarray((test_y[0,:,:]*255).astype(np.int8), 'L') \n",
    "for v, y in zip(prediction, target_y):\n",
    "    v1 = np.reshape(v, (1, ImgGenerator.W, ImgGenerator.H))\n",
    "    av = v1[0,:,:] > 0.7\n",
    "    iy = Image.fromarray((y*255).astype(np.int8), 'L')\n",
    "    ix = Image.fromarray((av.astype(np.int)*255).astype(np.int8), 'L')\n",
    "    display(ix)\n",
    "    display(iy)"
   ]
  },
  {
   "cell_type": "code",
   "execution_count": 23,
   "metadata": {
    "scrolled": true
   },
   "outputs": [
    {
     "name": "stdout",
     "output_type": "stream",
     "text": [
      "[[0.5415723  0.5415723  0.5415723  ... 0.6308803  0.5820671  0.42561314]\n",
      " [0.70205677 0.70205677 0.70205677 ... 0.82271147 0.75100726 0.53188455]\n",
      " [0.71586037 0.71586037 0.71586037 ... 0.81169254 0.7347469  0.52586234]\n",
      " ...\n",
      " [0.71586037 0.71586037 0.71586037 ... 0.8356797  0.7830382  0.5624191 ]\n",
      " [0.69146496 0.69146496 0.69146496 ... 0.80689126 0.75651544 0.55274445]\n",
      " [0.5063544  0.5063544  0.5063544  ... 0.5808673  0.5515715  0.41736808]]\n"
     ]
    },
    {
     "data": {
      "image/png": "[encoded data removed]",
      "text/plain": [
       "<PIL.Image.Image image mode=L size=128x128 at 0x1F18AD58148>"
      ]
     },
     "metadata": {},
     "output_type": "display_data"
    }
   ],
   "source": [
    "av = v1[0,:,:]\n",
    "print(av)\n",
    "av = av >0.7\n",
    "iy = Image.fromarray((av.astype(np.int)*255).astype(np.int8), 'L')\n",
    "display(iy)"
   ]
  },
  {
   "cell_type": "code",
   "execution_count": null,
   "metadata": {},
   "outputs": [],
   "source": []
  }
 ],
 "metadata": {
  "kernelspec": {
   "display_name": "Python 3",
   "language": "python",
   "name": "python3"
  },
  "language_info": {
   "codemirror_mode": {
    "name": "ipython",
    "version": 3
   },
   "file_extension": ".py",
   "mimetype": "text/x-python",
   "name": "python",
   "nbconvert_exporter": "python",
   "pygments_lexer": "ipython3",
   "version": "3.7.5"
  }
 },
 "nbformat": 4,
 "nbformat_minor": 4
}
